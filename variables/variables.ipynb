{
 "cells": [
  {
   "cell_type": "code",
   "execution_count": 2,
   "metadata": {},
   "outputs": [
    {
     "name": "stdout",
     "output_type": "stream",
     "text": [
      "hola\n",
      "El  valor de x es: 5\n",
      "El valor de y es: 26\n",
      "Te llamas: david , mides: 1.79 , y tu número de la suerte es: 7\n"
     ]
    }
   ],
   "source": [
    "x = 5 \n",
    "y = 1 + x*5\n",
    "z = \"hola\"\n",
    "nombre = input(\"ingresa tu nombre:\")\n",
    "número = int(input(\"ingresa tu número de la suerte:\"))\n",
    "altura = float(input(\"ingresa tu altura:\"))\n",
    "\n",
    "print(z)\n",
    "print(\"El  valor de x es:\",x)\n",
    "print(\"El valor de y es:\",y)\n",
    "print(\"Te llamas:\",nombre,\", mides:\",altura,\", y tu número de la suerte es:\",número)"
   ]
  }
 ],
 "metadata": {
  "kernelspec": {
   "display_name": "Python 3.8.10 64-bit",
   "language": "python",
   "name": "python3"
  },
  "language_info": {
   "codemirror_mode": {
    "name": "ipython",
    "version": 3
   },
   "file_extension": ".py",
   "mimetype": "text/x-python",
   "name": "python",
   "nbconvert_exporter": "python",
   "pygments_lexer": "ipython3",
   "version": "3.8.10"
  },
  "orig_nbformat": 4,
  "vscode": {
   "interpreter": {
    "hash": "916dbcbb3f70747c44a77c7bcd40155683ae19c65e1c03b4aa3499c5328201f1"
   }
  }
 },
 "nbformat": 4,
 "nbformat_minor": 2
}
