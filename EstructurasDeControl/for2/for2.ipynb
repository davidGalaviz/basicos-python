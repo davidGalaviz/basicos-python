{
 "cells": [
  {
   "cell_type": "code",
   "execution_count": 1,
   "metadata": {},
   "outputs": [
    {
     "name": "stdout",
     "output_type": "stream",
     "text": [
      "    1   2   3   4   5   6   7   8   9  10  11  12  13  14  15  16  17  18  19  20\n",
      "   1   2   3   4   5   6   7   8   9  10  11  12  13  14  15  16  17  18  19  20  20  40  60  80 100 120 140 160 180 200 220 240 260 280 300 320 340 360 380 400\n"
     ]
    }
   ],
   "source": [
    "MIN = 1 \n",
    "MAX = 20 \n",
    "#La instrucción end=\"\" al final del argumento de print, evita que el programa continue a la siguiente línea \n",
    "print(\" \", end=\"\") \n",
    "for i in range(MIN, MAX + 1): \n",
    "    print(\"%4d\" % i, end=\"\") \n",
    "print() \n",
    "for i in range(MIN, MAX + 1): \n",
    "    print(\"%4d\" % i, end=\"\") \n",
    "for j in range(MIN, MAX + 1): \n",
    "    print(\"%4d\" % (i * j), end=\"\") \n",
    "print()"
   ]
  }
 ],
 "metadata": {
  "kernelspec": {
   "display_name": "Python 3.8.10 64-bit",
   "language": "python",
   "name": "python3"
  },
  "language_info": {
   "codemirror_mode": {
    "name": "ipython",
    "version": 3
   },
   "file_extension": ".py",
   "mimetype": "text/x-python",
   "name": "python",
   "nbconvert_exporter": "python",
   "pygments_lexer": "ipython3",
   "version": "3.8.10"
  },
  "orig_nbformat": 4,
  "vscode": {
   "interpreter": {
    "hash": "916dbcbb3f70747c44a77c7bcd40155683ae19c65e1c03b4aa3499c5328201f1"
   }
  }
 },
 "nbformat": 4,
 "nbformat_minor": 2
}
