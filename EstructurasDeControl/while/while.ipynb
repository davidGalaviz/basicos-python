{
 "cells": [
  {
   "cell_type": "code",
   "execution_count": null,
   "metadata": {},
   "outputs": [],
   "source": [
    "byte = input(\"Ingresa 7 bits(0 y 1): \")\n",
    "while byte != \"\":\n",
    "    if byte.count(\"0\") + byte.count(\"1\") != 7 or len(byte) != 7:\n",
    "        print(\"No insertaste 7 bits\")\n",
    "    else:\n",
    "        unos = byte.count(\"1\")\n",
    "        if unos % 2 == 0:\n",
    "            print(\"El bit de paridad debe ser 0.\")\n",
    "        else:\n",
    "            print(\"El bit de paridad debe ser 1.\")\n",
    "    byte = input(\"Ingresa 7 bits\")"
   ]
  }
 ],
 "metadata": {
  "kernelspec": {
   "display_name": "Python 3.8.10 64-bit",
   "language": "python",
   "name": "python3"
  },
  "language_info": {
   "codemirror_mode": {
    "name": "ipython",
    "version": 3
   },
   "file_extension": ".py",
   "mimetype": "text/x-python",
   "name": "python",
   "nbconvert_exporter": "python",
   "pygments_lexer": "ipython3",
   "version": "3.8.10"
  },
  "orig_nbformat": 4,
  "vscode": {
   "interpreter": {
    "hash": "916dbcbb3f70747c44a77c7bcd40155683ae19c65e1c03b4aa3499c5328201f1"
   }
  }
 },
 "nbformat": 4,
 "nbformat_minor": 2
}
